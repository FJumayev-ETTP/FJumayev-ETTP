{
 "cells": [
  {
   "cell_type": "markdown",
   "metadata": {
    "id": "_hmXpj3l1WIL"
   },
   "source": [
    "# Pandas (Часть 3)"
   ]
  },
  {
   "cell_type": "markdown",
   "metadata": {},
   "source": [
    "> 🚀 В этой практике нам понадобятся: `numpy==1.21.2, pandas==1.5.0` \n",
    "\n",
    "> 🚀 Установить вы их можете с помощью команды: `%pip install numpy==1.21.2 pandas==1.5.0` \n"
   ]
  },
  {
   "cell_type": "markdown",
   "metadata": {},
   "source": [
    "## Содержание\n",
    "\n",
    "* [Сохранение / загрузка данных (работа с CSV)](#Сохранение-/-загрузка-данных-работа-с-CSV)\n",
    "  * [Задание - чуток самостоятельного разбора](#Задание---чуток-самостоятельного-разбора)\n",
    "* [Задачки](#Задачки)\n"
   ]
  },
  {
   "cell_type": "markdown",
   "metadata": {},
   "source": [
    "В этом ноутбуке:\n",
    "- CSV файлы\n",
    "- Кто не работает тот ест: землю при встрече с трудностями. Задачки"
   ]
  },
  {
   "cell_type": "code",
   "execution_count": 1,
   "metadata": {
    "_cell_id": "LHqcVPM8fofLeSd4",
    "ExecuteTime": {
     "end_time": "2023-12-26T19:58:44.612591200Z",
     "start_time": "2023-12-26T19:58:44.388192Z"
    }
   },
   "outputs": [],
   "source": [
    "import pandas as pd\n",
    "import numpy as np"
   ]
  },
  {
   "cell_type": "markdown",
   "metadata": {
    "id": "QoA5WcSp_1am"
   },
   "source": [
    "## Сохранение / загрузка данных (работа с CSV) "
   ]
  },
  {
   "cell_type": "markdown",
   "metadata": {
    "id": "FRzJjPfe_55Q"
   },
   "source": [
    "Одним из важных инструментов в работе с таблицами является возможность сохранить результаты работы в файл или загрузить данные из файла. Пользоваться мы будем форматом CSV, который является текстовым форматом для хранения таблицы. Формат представляет собой текстовые строки, каждая колонка разделяется разделителем (запятая, точка запятой и др.), поэтому его просто понять и обрабатывать, так как не требуется никакого специального протокола для понимания.\n",
    "\n",
    "Для сохранения данных имеется метод `DataFrame.to_csv()`:"
   ]
  },
  {
   "cell_type": "code",
   "execution_count": 2,
   "metadata": {
    "_cell_id": "QMQ5sHUhrwyL398z",
    "colab": {
     "base_uri": "https://localhost:8080/",
     "height": 133
    },
    "executionInfo": {
     "elapsed": 4384,
     "status": "ok",
     "timestamp": 1598976562303,
     "user": {
      "displayName": "Алексей Девяткин",
      "photoUrl": "",
      "userId": "11945040185410340858"
     },
     "user_tz": -180
    },
    "id": "DmYMxecrAq10",
    "outputId": "9f134781-1869-49f3-9294-f0ec9f25b59f",
    "ExecuteTime": {
     "end_time": "2023-12-26T19:58:47.695823800Z",
     "start_time": "2023-12-26T19:58:47.681819200Z"
    }
   },
   "outputs": [
    {
     "data": {
      "text/plain": "   x1  x2  x3\nA   2   1   3\nB   9   0   3\nC   4   0   9",
      "text/html": "<div>\n<style scoped>\n    .dataframe tbody tr th:only-of-type {\n        vertical-align: middle;\n    }\n\n    .dataframe tbody tr th {\n        vertical-align: top;\n    }\n\n    .dataframe thead th {\n        text-align: right;\n    }\n</style>\n<table border=\"1\" class=\"dataframe\">\n  <thead>\n    <tr style=\"text-align: right;\">\n      <th></th>\n      <th>x1</th>\n      <th>x2</th>\n      <th>x3</th>\n    </tr>\n  </thead>\n  <tbody>\n    <tr>\n      <th>A</th>\n      <td>2</td>\n      <td>1</td>\n      <td>3</td>\n    </tr>\n    <tr>\n      <th>B</th>\n      <td>9</td>\n      <td>0</td>\n      <td>3</td>\n    </tr>\n    <tr>\n      <th>C</th>\n      <td>4</td>\n      <td>0</td>\n      <td>9</td>\n    </tr>\n  </tbody>\n</table>\n</div>"
     },
     "execution_count": 2,
     "metadata": {},
     "output_type": "execute_result"
    }
   ],
   "source": [
    "import string\n",
    "\n",
    "df = pd.DataFrame(\n",
    "    data=np.random.randint(0, 10, size=(15, 3)), \n",
    "    columns=['x1', 'x2', 'x3'],\n",
    "    index=list(string.ascii_uppercase)[:15]\n",
    ")\n",
    "df.head(3)"
   ]
  },
  {
   "cell_type": "code",
   "execution_count": 3,
   "metadata": {
    "_cell_id": "PKPMvXkgMzr53w1f",
    "id": "KMNVroGbA7Vw",
    "ExecuteTime": {
     "end_time": "2023-12-26T19:58:53.646347400Z",
     "start_time": "2023-12-26T19:58:53.626334200Z"
    }
   },
   "outputs": [],
   "source": [
    "# Для сохранения задается путь до файла\n",
    "df.to_csv('my_first_file.csv')"
   ]
  },
  {
   "cell_type": "markdown",
   "metadata": {
    "id": "s8k6zkCrBgJf"
   },
   "source": [
    "Чтобы убедиться в работе метода найдите файл рядом с ноутбуком и откройте его через редактор.\n",
    "\n",
    "> При работе в Google Colab слева есть вкладка, которая показывает файлы на сервере.\n",
    "\n",
    "При открытии можно увидеть четыре колонки:\n",
    "- Колонка индекса;\n",
    "- Три колонки из наших данных.\n",
    "\n",
    "Теперь, когда мы имеем файл CSV в системе - можем испытать функцию загрузки `pd.read_csv()`:"
   ]
  },
  {
   "cell_type": "code",
   "execution_count": 4,
   "metadata": {
    "_cell_id": "NtTQAVZOxuZiWlkh",
    "colab": {
     "base_uri": "https://localhost:8080/",
     "height": 133
    },
    "executionInfo": {
     "elapsed": 4354,
     "status": "ok",
     "timestamp": 1598976562305,
     "user": {
      "displayName": "Алексей Девяткин",
      "photoUrl": "",
      "userId": "11945040185410340858"
     },
     "user_tz": -180
    },
    "id": "Hu1Cn2dAAtZE",
    "outputId": "f748e2f4-4458-445c-d2fc-9836ffeb9050",
    "ExecuteTime": {
     "end_time": "2023-12-26T19:58:56.564884200Z",
     "start_time": "2023-12-26T19:58:56.526402900Z"
    }
   },
   "outputs": [
    {
     "data": {
      "text/plain": "  Unnamed: 0  x1  x2  x3\n0          A   2   1   3\n1          B   9   0   3\n2          C   4   0   9",
      "text/html": "<div>\n<style scoped>\n    .dataframe tbody tr th:only-of-type {\n        vertical-align: middle;\n    }\n\n    .dataframe tbody tr th {\n        vertical-align: top;\n    }\n\n    .dataframe thead th {\n        text-align: right;\n    }\n</style>\n<table border=\"1\" class=\"dataframe\">\n  <thead>\n    <tr style=\"text-align: right;\">\n      <th></th>\n      <th>Unnamed: 0</th>\n      <th>x1</th>\n      <th>x2</th>\n      <th>x3</th>\n    </tr>\n  </thead>\n  <tbody>\n    <tr>\n      <th>0</th>\n      <td>A</td>\n      <td>2</td>\n      <td>1</td>\n      <td>3</td>\n    </tr>\n    <tr>\n      <th>1</th>\n      <td>B</td>\n      <td>9</td>\n      <td>0</td>\n      <td>3</td>\n    </tr>\n    <tr>\n      <th>2</th>\n      <td>C</td>\n      <td>4</td>\n      <td>0</td>\n      <td>9</td>\n    </tr>\n  </tbody>\n</table>\n</div>"
     },
     "execution_count": 4,
     "metadata": {},
     "output_type": "execute_result"
    }
   ],
   "source": [
    "df = pd.read_csv('my_first_file.csv')\n",
    "df.head(3)"
   ]
  },
  {
   "cell_type": "markdown",
   "metadata": {
    "id": "826nsjTTDELg"
   },
   "source": [
    "Видна одна явная проблема - у нас появилась колонка, которая должна быть индексом, но она стала новой колонкой, а индексы создались новые. Для решения проблемы при загрузке необходимо явно задать, какая колонка считается индексом:"
   ]
  },
  {
   "cell_type": "code",
   "execution_count": 5,
   "metadata": {
    "_cell_id": "R0RmtTjHSek7gJfr",
    "colab": {
     "base_uri": "https://localhost:8080/",
     "height": 133
    },
    "executionInfo": {
     "elapsed": 4334,
     "status": "ok",
     "timestamp": 1598976562306,
     "user": {
      "displayName": "Алексей Девяткин",
      "photoUrl": "",
      "userId": "11945040185410340858"
     },
     "user_tz": -180
    },
    "id": "4ro4a8XQD7NU",
    "outputId": "9c23f21f-7a5e-4e89-fb88-7732c32a81f7",
    "ExecuteTime": {
     "end_time": "2023-12-26T19:58:59.045504Z",
     "start_time": "2023-12-26T19:58:59.024451400Z"
    }
   },
   "outputs": [
    {
     "data": {
      "text/plain": "   x1  x2  x3\nA   2   1   3\nB   9   0   3\nC   4   0   9",
      "text/html": "<div>\n<style scoped>\n    .dataframe tbody tr th:only-of-type {\n        vertical-align: middle;\n    }\n\n    .dataframe tbody tr th {\n        vertical-align: top;\n    }\n\n    .dataframe thead th {\n        text-align: right;\n    }\n</style>\n<table border=\"1\" class=\"dataframe\">\n  <thead>\n    <tr style=\"text-align: right;\">\n      <th></th>\n      <th>x1</th>\n      <th>x2</th>\n      <th>x3</th>\n    </tr>\n  </thead>\n  <tbody>\n    <tr>\n      <th>A</th>\n      <td>2</td>\n      <td>1</td>\n      <td>3</td>\n    </tr>\n    <tr>\n      <th>B</th>\n      <td>9</td>\n      <td>0</td>\n      <td>3</td>\n    </tr>\n    <tr>\n      <th>C</th>\n      <td>4</td>\n      <td>0</td>\n      <td>9</td>\n    </tr>\n  </tbody>\n</table>\n</div>"
     },
     "execution_count": 5,
     "metadata": {},
     "output_type": "execute_result"
    }
   ],
   "source": [
    "df = pd.read_csv('my_first_file.csv', index_col=0)\n",
    "df.head(3)"
   ]
  },
  {
   "cell_type": "markdown",
   "metadata": {
    "id": "VvNbDFPlD-kK"
   },
   "source": [
    "Теперь все отлично и данные загрузились так, как они должны быть."
   ]
  },
  {
   "cell_type": "markdown",
   "metadata": {
    "id": "iji4lnn2DRrF"
   },
   "source": [
    "### Задание - чуток самостоятельного разбора\n",
    "\n",
    "Разберитесь в аргументах `DataFrame.to_csv()` и сохраните данные в файл так, чтобы в файл индекс не сохранялся."
   ]
  },
  {
   "cell_type": "code",
   "execution_count": 6,
   "metadata": {
    "_cell_id": "yoyKMNprzbIagekG",
    "colab": {
     "base_uri": "https://localhost:8080/",
     "height": 133
    },
    "executionInfo": {
     "elapsed": 4310,
     "status": "ok",
     "timestamp": 1598976562307,
     "user": {
      "displayName": "Алексей Девяткин",
      "photoUrl": "",
      "userId": "11945040185410340858"
     },
     "user_tz": -180
    },
    "id": "QmxqqhksDdZz",
    "outputId": "2f78401a-62c0-49db-a1a8-cde35bdb9719",
    "ExecuteTime": {
     "end_time": "2023-12-26T19:59:32.527335700Z",
     "start_time": "2023-12-26T19:59:32.515656600Z"
    }
   },
   "outputs": [],
   "source": [
    "df = pd.DataFrame(\n",
    "    data=np.random.randint(0, 10, size=(15, 3)), \n",
    "    columns=['x1', 'x2', 'x3'],\n",
    "    index=list(string.ascii_uppercase)[:15]\n",
    ")\n",
    "df.head(3)\n",
    "\n",
    "# TODO - сохранить в файл no_index.csv без индексов\n",
    "df.to_csv('no_index.csv', index=False)"
   ]
  },
  {
   "cell_type": "markdown",
   "metadata": {
    "id": "irt2kdlT1Y5g"
   },
   "source": [
    "## Задачки"
   ]
  },
  {
   "cell_type": "markdown",
   "metadata": {
    "id": "ia4T__g3U7JG"
   },
   "source": [
    "Создайте фрейм с четыремя колонками:\n",
    "- Колонка с именами (тип - объекты);\n",
    "- Колонка с стажем работы (тип - вещественный);\n",
    "- Колонка с возрастом (тип - целочисленный);\n",
    "- Колонка с названием любимого цвета (тип - категориальный);\n",
    "\n",
    "Имена колонок и значения любые, не менее трех записей (строк) в фрейме."
   ]
  },
  {
   "cell_type": "code",
   "execution_count": 8,
   "metadata": {
    "_cell_id": "6tMlQi2Vyz10qieF",
    "id": "gjI5Zey31Ntq",
    "ExecuteTime": {
     "end_time": "2023-12-26T20:02:23.285310300Z",
     "start_time": "2023-12-26T20:02:23.233556900Z"
    }
   },
   "outputs": [
    {
     "name": "stdout",
     "output_type": "stream",
     "text": [
      "<class 'pandas.core.frame.DataFrame'>\n",
      "RangeIndex: 3 entries, 0 to 2\n",
      "Data columns (total 4 columns):\n",
      " #   Column                 Non-Null Count  Dtype   \n",
      "---  ------                 --------------  -----   \n",
      " 0   Имя                    3 non-null      object  \n",
      " 1   Стаж работы (в годах)  3 non-null      float64 \n",
      " 2   Возраст                3 non-null      int32   \n",
      " 3   Любимый цвет           3 non-null      category\n",
      "dtypes: category(1), float64(1), int32(1), object(1)\n",
      "memory usage: 323.0+ bytes\n"
     ]
    },
    {
     "data": {
      "text/plain": "         Имя  Стаж работы (в годах)  Возраст Любимый цвет\n0   Алимджон                    4.0       25        Серый\n1     Фархад                    1.5       35   Коричневый\n2  Абдулазиз                    2.5       30   Эбонитовый",
      "text/html": "<div>\n<style scoped>\n    .dataframe tbody tr th:only-of-type {\n        vertical-align: middle;\n    }\n\n    .dataframe tbody tr th {\n        vertical-align: top;\n    }\n\n    .dataframe thead th {\n        text-align: right;\n    }\n</style>\n<table border=\"1\" class=\"dataframe\">\n  <thead>\n    <tr style=\"text-align: right;\">\n      <th></th>\n      <th>Имя</th>\n      <th>Стаж работы (в годах)</th>\n      <th>Возраст</th>\n      <th>Любимый цвет</th>\n    </tr>\n  </thead>\n  <tbody>\n    <tr>\n      <th>0</th>\n      <td>Алимджон</td>\n      <td>4.0</td>\n      <td>25</td>\n      <td>Серый</td>\n    </tr>\n    <tr>\n      <th>1</th>\n      <td>Фархад</td>\n      <td>1.5</td>\n      <td>35</td>\n      <td>Коричневый</td>\n    </tr>\n    <tr>\n      <th>2</th>\n      <td>Абдулазиз</td>\n      <td>2.5</td>\n      <td>30</td>\n      <td>Эбонитовый</td>\n    </tr>\n  </tbody>\n</table>\n</div>"
     },
     "execution_count": 8,
     "metadata": {},
     "output_type": "execute_result"
    }
   ],
   "source": [
    "# TODO - создайте фрейм и настройте правильные типы колонок\n",
    "#           DataFrame.info() дожен отображать указанные типы\n",
    "data = {\n",
    "    'Имя': ['Алимджон', 'Фархад', 'Абдулазиз'],\n",
    "    'Стаж работы (в годах)': [4, 1.5, 2.5],\n",
    "    'Возраст': [25, 35, 30],\n",
    "    'Любимый цвет': ['Серый', 'Коричневый', 'Эбонитовый']\n",
    "}\n",
    "\n",
    "\n",
    "df = pd.DataFrame(data)\n",
    "\n",
    "df = df.astype({'Имя': 'object', 'Стаж работы (в годах)': 'float', 'Возраст': 'int', 'Любимый цвет': 'category'})\n",
    "\n",
    "df.info()\n",
    "df"
   ]
  },
  {
   "cell_type": "markdown",
   "metadata": {
    "id": "Mq_Iapt6Wuzq"
   },
   "source": [
    "Выберите числа в ряду `ds1`, которых нет в ряду `ds2`:\n",
    "\n",
    "> Почитайте и примение метод `Series.isin()`"
   ]
  },
  {
   "cell_type": "code",
   "execution_count": 10,
   "metadata": {
    "_cell_id": "fJeJfFPpFiWN76yo",
    "ExecuteTime": {
     "end_time": "2023-12-26T20:03:05.339347800Z",
     "start_time": "2023-12-26T20:03:05.308683Z"
    }
   },
   "outputs": [
    {
     "name": "stdout",
     "output_type": "stream",
     "text": [
      "1    2\n",
      "2    3\n",
      "dtype: int64\n"
     ]
    }
   ],
   "source": [
    "ds1 = pd.Series([1, 2, 3, 4, 5])\n",
    "ds2 = pd.Series([4, 5, 6, 7, 8, 1, 9])\n",
    "\n",
    "print(ds1[~ds1.isin(ds2)])\n"
   ]
  },
  {
   "cell_type": "markdown",
   "metadata": {
    "id": "zpEVG3hjZGfS"
   },
   "source": [
    "Оставьте в ряду два наиболее частых значения, остальные замените значением 'Другое':\n",
    "\n",
    "<details>\n",
    "<summary>Подсказка 1</summary>\n",
    "\n",
    "Для определения наиболее частых значений воспользуйтесь методом `Series.value_counts()`\n",
    "</details>\n",
    "\n",
    "<details>\n",
    "<summary>Подсказка 2</summary>\n",
    "\n",
    "Чтобы получить наиболее частые значения можно воспользоваться результатом `Series.value_counts()` - атрибутом `Series.index`\n",
    "</details>\n",
    "\n",
    "<details>\n",
    "<summary>Подсказка 3</summary>\n",
    "\n",
    "Получив наиболее частые значения, можно индексировать другие через маску метода `Series.isin()`\n",
    "</details>\n"
   ]
  },
  {
   "cell_type": "code",
   "execution_count": 12,
   "metadata": {
    "_cell_id": "Zyl0irwhAIxs24Fe",
    "id": "6hexIuIsYw-D",
    "ExecuteTime": {
     "end_time": "2023-12-26T20:04:08.937880300Z",
     "start_time": "2023-12-26T20:04:08.928745100Z"
    }
   },
   "outputs": [
    {
     "name": "stdout",
     "output_type": "stream",
     "text": [
      "0     Другое\n",
      "1     Другое\n",
      "2     Другое\n",
      "3          4\n",
      "4          4\n",
      "5          4\n",
      "6     Другое\n",
      "7          1\n",
      "8          1\n",
      "9          1\n",
      "10         1\n",
      "11         4\n",
      "dtype: object\n"
     ]
    }
   ],
   "source": [
    "ds = pd.Series([2, 2, 2, 4, 4, 4, 3, 1, 1, 1, 1, 4])\n",
    "\n",
    "# TODO - определите два наиболее частых значения в ряду (1, 4),\n",
    "#           остальные замените значением 'Другое'\n",
    "# ['Другое', 'Другое', 'Другое', 4, 4, 4, 'Другое', 1, 1, 1, 1, 4]\n",
    "another = ds.value_counts().index[:2]\n",
    "#           остальные замените значением 'Другое'\n",
    "ds[~ds.isin(another)] = 'Другое'\n",
    "# ['Другое', 'Другое', 'Другое', 4, 4, 4, 'Другое', 1, 1, 1, 1, 4]\n",
    "print(ds)"
   ]
  },
  {
   "cell_type": "markdown",
   "metadata": {
    "id": "oz2HQvOcb5SN"
   },
   "source": [
    "Сделайте каждую первую букву в словах ряда заглавной:"
   ]
  },
  {
   "cell_type": "code",
   "execution_count": 13,
   "metadata": {
    "_cell_id": "Z0ZLYaIRtZrsXJVV",
    "ExecuteTime": {
     "end_time": "2023-12-26T20:04:37.080185600Z",
     "start_time": "2023-12-26T20:04:37.064065400Z"
    }
   },
   "outputs": [
    {
     "data": {
      "text/plain": "0        How\n1         To\n2        Use\n3    Pandas?\ndtype: object"
     },
     "execution_count": 13,
     "metadata": {},
     "output_type": "execute_result"
    }
   ],
   "source": [
    "ds = pd.Series(['how', 'to', 'use', 'pandas?'])\n",
    "ds.apply(lambda x: x.capitalize())"
   ]
  },
  {
   "cell_type": "markdown",
   "metadata": {
    "id": "DMVceUcqd9RF"
   },
   "source": [
    "Выберите записи с максимальным значением по колонке `x1`:"
   ]
  },
  {
   "cell_type": "code",
   "execution_count": 14,
   "metadata": {
    "_cell_id": "u2nT6Ibsi3B5kbJx",
    "ExecuteTime": {
     "end_time": "2023-12-26T20:05:14.205903900Z",
     "start_time": "2023-12-26T20:05:14.186834900Z"
    }
   },
   "outputs": [
    {
     "data": {
      "text/plain": "    x1  x2  x3\n0    3   1   2\n1    3   3   0\n3    3   1   0\n7    3   1   2\n8    3   1   1\n12   3   0   1\n13   3   1   2",
      "text/html": "<div>\n<style scoped>\n    .dataframe tbody tr th:only-of-type {\n        vertical-align: middle;\n    }\n\n    .dataframe tbody tr th {\n        vertical-align: top;\n    }\n\n    .dataframe thead th {\n        text-align: right;\n    }\n</style>\n<table border=\"1\" class=\"dataframe\">\n  <thead>\n    <tr style=\"text-align: right;\">\n      <th></th>\n      <th>x1</th>\n      <th>x2</th>\n      <th>x3</th>\n    </tr>\n  </thead>\n  <tbody>\n    <tr>\n      <th>0</th>\n      <td>3</td>\n      <td>1</td>\n      <td>2</td>\n    </tr>\n    <tr>\n      <th>1</th>\n      <td>3</td>\n      <td>3</td>\n      <td>0</td>\n    </tr>\n    <tr>\n      <th>3</th>\n      <td>3</td>\n      <td>1</td>\n      <td>0</td>\n    </tr>\n    <tr>\n      <th>7</th>\n      <td>3</td>\n      <td>1</td>\n      <td>2</td>\n    </tr>\n    <tr>\n      <th>8</th>\n      <td>3</td>\n      <td>1</td>\n      <td>1</td>\n    </tr>\n    <tr>\n      <th>12</th>\n      <td>3</td>\n      <td>0</td>\n      <td>1</td>\n    </tr>\n    <tr>\n      <th>13</th>\n      <td>3</td>\n      <td>1</td>\n      <td>2</td>\n    </tr>\n  </tbody>\n</table>\n</div>"
     },
     "execution_count": 14,
     "metadata": {},
     "output_type": "execute_result"
    }
   ],
   "source": [
    "df = pd.DataFrame(\n",
    "    np.random.randint(0, 4, size=(15, 3)), \n",
    "    columns=['x1', 'x2', 'x3']\n",
    ")\n",
    "df[df['x1'] == df['x1'].max()]"
   ]
  },
  {
   "cell_type": "markdown",
   "metadata": {
    "id": "Ct6PN4nCeqOA"
   },
   "source": [
    "Выведите количество пропусков в каждой колонке данных:"
   ]
  },
  {
   "cell_type": "code",
   "execution_count": 15,
   "metadata": {
    "_cell_id": "Knvzp5bAgjj0djGA",
    "ExecuteTime": {
     "end_time": "2023-12-26T20:05:53.436503300Z",
     "start_time": "2023-12-26T20:05:53.177027100Z"
    }
   },
   "outputs": [
    {
     "data": {
      "text/plain": "Manufacturer           4\nModel                  1\nType                   3\nMin.Price              7\nPrice                  2\nMax.Price              5\nMPG.city               9\nMPG.highway            2\nAirBags                6\nDriveTrain             7\nCylinders              5\nEngineSize             2\nHorsepower             7\nRPM                    3\nRev.per.mile           6\nMan.trans.avail        5\nFuel.tank.capacity     8\nPassengers             2\nLength                 4\nWheelbase              1\nWidth                  6\nTurn.circle            5\nRear.seat.room         4\nLuggage.room          19\nWeight                 7\nOrigin                 5\nMake                   3\ndtype: int64"
     },
     "execution_count": 15,
     "metadata": {},
     "output_type": "execute_result"
    }
   ],
   "source": [
    "df = pd.read_csv('https://raw.githubusercontent.com/AleksDevEdu/ml_edu/master/datasets/Cars93_miss.csv')\n",
    "\n",
    "\n",
    "df.isnull().sum()"
   ]
  },
  {
   "cell_type": "markdown",
   "metadata": {
    "id": "suuzAbGzhlX1"
   },
   "source": [
    "Замените пропущенные значения в колонке `Min.Price` средним значениям по этой колонке:"
   ]
  },
  {
   "cell_type": "code",
   "execution_count": 20,
   "metadata": {
    "_cell_id": "xmxQbvZenje3a141",
    "id": "JVSvCfgThTh3",
    "ExecuteTime": {
     "end_time": "2023-12-26T20:08:15.877522100Z",
     "start_time": "2023-12-26T20:08:15.796574900Z"
    }
   },
   "outputs": [
    {
     "name": "stdout",
     "output_type": "stream",
     "text": [
      "Количество пропущенных значений в колонке Min.Price: 0\n"
     ]
    },
    {
     "data": {
      "text/plain": "   Manufacturer    Model     Type  Min.Price  Price  Max.Price  MPG.city  \\\n0         Acura  Integra    Small  12.900000   15.9       18.8      25.0   \n1           NaN   Legend  Midsize  29.200000   33.9       38.7      18.0   \n2          Audi       90  Compact  25.900000   29.1       32.3      20.0   \n3          Audi      100  Midsize  17.118605   37.7       44.6      19.0   \n4           BMW     535i  Midsize  17.118605   30.0        NaN      22.0   \n..          ...      ...      ...        ...    ...        ...       ...   \n88   Volkswagen  Eurovan      Van  16.600000   19.7       22.7      17.0   \n89   Volkswagen   Passat  Compact  17.600000   20.0       22.4      21.0   \n90   Volkswagen  Corrado   Sporty  22.900000   23.3       23.7      18.0   \n91        Volvo      240  Compact  21.800000   22.7       23.5      21.0   \n92          NaN      850  Midsize  24.800000   26.7       28.5      20.0   \n\n    MPG.highway             AirBags DriveTrain  ... Passengers  Length  \\\n0          31.0                None      Front  ...        5.0   177.0   \n1          25.0  Driver & Passenger      Front  ...        5.0   195.0   \n2          26.0         Driver only      Front  ...        5.0   180.0   \n3          26.0  Driver & Passenger        NaN  ...        6.0   193.0   \n4          30.0                 NaN       Rear  ...        4.0   186.0   \n..          ...                 ...        ...  ...        ...     ...   \n88         21.0                None      Front  ...        7.0   187.0   \n89         30.0                None      Front  ...        5.0   180.0   \n90         25.0                None      Front  ...        4.0   159.0   \n91         28.0         Driver only       Rear  ...        5.0   190.0   \n92         28.0  Driver & Passenger      Front  ...        5.0   184.0   \n\n    Wheelbase  Width  Turn.circle Rear.seat.room  Luggage.room  Weight  \\\n0       102.0   68.0         37.0           26.5           NaN  2705.0   \n1       115.0   71.0         38.0           30.0          15.0  3560.0   \n2       102.0   67.0         37.0           28.0          14.0  3375.0   \n3       106.0    NaN         37.0           31.0          17.0  3405.0   \n4       109.0   69.0         39.0           27.0          13.0  3640.0   \n..        ...    ...          ...            ...           ...     ...   \n88      115.0   72.0         38.0           34.0           NaN  3960.0   \n89      103.0   67.0         35.0           31.5          14.0  2985.0   \n90       97.0   66.0         36.0           26.0          15.0  2810.0   \n91      104.0   67.0         37.0           29.5          14.0  2985.0   \n92      105.0   69.0         38.0           30.0          15.0  3245.0   \n\n     Origin                Make  \n0   non-USA       Acura Integra  \n1   non-USA        Acura Legend  \n2   non-USA             Audi 90  \n3   non-USA            Audi 100  \n4   non-USA            BMW 535i  \n..      ...                 ...  \n88      NaN  Volkswagen Eurovan  \n89  non-USA   Volkswagen Passat  \n90  non-USA  Volkswagen Corrado  \n91  non-USA           Volvo 240  \n92  non-USA           Volvo 850  \n\n[93 rows x 27 columns]",
      "text/html": "<div>\n<style scoped>\n    .dataframe tbody tr th:only-of-type {\n        vertical-align: middle;\n    }\n\n    .dataframe tbody tr th {\n        vertical-align: top;\n    }\n\n    .dataframe thead th {\n        text-align: right;\n    }\n</style>\n<table border=\"1\" class=\"dataframe\">\n  <thead>\n    <tr style=\"text-align: right;\">\n      <th></th>\n      <th>Manufacturer</th>\n      <th>Model</th>\n      <th>Type</th>\n      <th>Min.Price</th>\n      <th>Price</th>\n      <th>Max.Price</th>\n      <th>MPG.city</th>\n      <th>MPG.highway</th>\n      <th>AirBags</th>\n      <th>DriveTrain</th>\n      <th>...</th>\n      <th>Passengers</th>\n      <th>Length</th>\n      <th>Wheelbase</th>\n      <th>Width</th>\n      <th>Turn.circle</th>\n      <th>Rear.seat.room</th>\n      <th>Luggage.room</th>\n      <th>Weight</th>\n      <th>Origin</th>\n      <th>Make</th>\n    </tr>\n  </thead>\n  <tbody>\n    <tr>\n      <th>0</th>\n      <td>Acura</td>\n      <td>Integra</td>\n      <td>Small</td>\n      <td>12.900000</td>\n      <td>15.9</td>\n      <td>18.8</td>\n      <td>25.0</td>\n      <td>31.0</td>\n      <td>None</td>\n      <td>Front</td>\n      <td>...</td>\n      <td>5.0</td>\n      <td>177.0</td>\n      <td>102.0</td>\n      <td>68.0</td>\n      <td>37.0</td>\n      <td>26.5</td>\n      <td>NaN</td>\n      <td>2705.0</td>\n      <td>non-USA</td>\n      <td>Acura Integra</td>\n    </tr>\n    <tr>\n      <th>1</th>\n      <td>NaN</td>\n      <td>Legend</td>\n      <td>Midsize</td>\n      <td>29.200000</td>\n      <td>33.9</td>\n      <td>38.7</td>\n      <td>18.0</td>\n      <td>25.0</td>\n      <td>Driver &amp; Passenger</td>\n      <td>Front</td>\n      <td>...</td>\n      <td>5.0</td>\n      <td>195.0</td>\n      <td>115.0</td>\n      <td>71.0</td>\n      <td>38.0</td>\n      <td>30.0</td>\n      <td>15.0</td>\n      <td>3560.0</td>\n      <td>non-USA</td>\n      <td>Acura Legend</td>\n    </tr>\n    <tr>\n      <th>2</th>\n      <td>Audi</td>\n      <td>90</td>\n      <td>Compact</td>\n      <td>25.900000</td>\n      <td>29.1</td>\n      <td>32.3</td>\n      <td>20.0</td>\n      <td>26.0</td>\n      <td>Driver only</td>\n      <td>Front</td>\n      <td>...</td>\n      <td>5.0</td>\n      <td>180.0</td>\n      <td>102.0</td>\n      <td>67.0</td>\n      <td>37.0</td>\n      <td>28.0</td>\n      <td>14.0</td>\n      <td>3375.0</td>\n      <td>non-USA</td>\n      <td>Audi 90</td>\n    </tr>\n    <tr>\n      <th>3</th>\n      <td>Audi</td>\n      <td>100</td>\n      <td>Midsize</td>\n      <td>17.118605</td>\n      <td>37.7</td>\n      <td>44.6</td>\n      <td>19.0</td>\n      <td>26.0</td>\n      <td>Driver &amp; Passenger</td>\n      <td>NaN</td>\n      <td>...</td>\n      <td>6.0</td>\n      <td>193.0</td>\n      <td>106.0</td>\n      <td>NaN</td>\n      <td>37.0</td>\n      <td>31.0</td>\n      <td>17.0</td>\n      <td>3405.0</td>\n      <td>non-USA</td>\n      <td>Audi 100</td>\n    </tr>\n    <tr>\n      <th>4</th>\n      <td>BMW</td>\n      <td>535i</td>\n      <td>Midsize</td>\n      <td>17.118605</td>\n      <td>30.0</td>\n      <td>NaN</td>\n      <td>22.0</td>\n      <td>30.0</td>\n      <td>NaN</td>\n      <td>Rear</td>\n      <td>...</td>\n      <td>4.0</td>\n      <td>186.0</td>\n      <td>109.0</td>\n      <td>69.0</td>\n      <td>39.0</td>\n      <td>27.0</td>\n      <td>13.0</td>\n      <td>3640.0</td>\n      <td>non-USA</td>\n      <td>BMW 535i</td>\n    </tr>\n    <tr>\n      <th>...</th>\n      <td>...</td>\n      <td>...</td>\n      <td>...</td>\n      <td>...</td>\n      <td>...</td>\n      <td>...</td>\n      <td>...</td>\n      <td>...</td>\n      <td>...</td>\n      <td>...</td>\n      <td>...</td>\n      <td>...</td>\n      <td>...</td>\n      <td>...</td>\n      <td>...</td>\n      <td>...</td>\n      <td>...</td>\n      <td>...</td>\n      <td>...</td>\n      <td>...</td>\n      <td>...</td>\n    </tr>\n    <tr>\n      <th>88</th>\n      <td>Volkswagen</td>\n      <td>Eurovan</td>\n      <td>Van</td>\n      <td>16.600000</td>\n      <td>19.7</td>\n      <td>22.7</td>\n      <td>17.0</td>\n      <td>21.0</td>\n      <td>None</td>\n      <td>Front</td>\n      <td>...</td>\n      <td>7.0</td>\n      <td>187.0</td>\n      <td>115.0</td>\n      <td>72.0</td>\n      <td>38.0</td>\n      <td>34.0</td>\n      <td>NaN</td>\n      <td>3960.0</td>\n      <td>NaN</td>\n      <td>Volkswagen Eurovan</td>\n    </tr>\n    <tr>\n      <th>89</th>\n      <td>Volkswagen</td>\n      <td>Passat</td>\n      <td>Compact</td>\n      <td>17.600000</td>\n      <td>20.0</td>\n      <td>22.4</td>\n      <td>21.0</td>\n      <td>30.0</td>\n      <td>None</td>\n      <td>Front</td>\n      <td>...</td>\n      <td>5.0</td>\n      <td>180.0</td>\n      <td>103.0</td>\n      <td>67.0</td>\n      <td>35.0</td>\n      <td>31.5</td>\n      <td>14.0</td>\n      <td>2985.0</td>\n      <td>non-USA</td>\n      <td>Volkswagen Passat</td>\n    </tr>\n    <tr>\n      <th>90</th>\n      <td>Volkswagen</td>\n      <td>Corrado</td>\n      <td>Sporty</td>\n      <td>22.900000</td>\n      <td>23.3</td>\n      <td>23.7</td>\n      <td>18.0</td>\n      <td>25.0</td>\n      <td>None</td>\n      <td>Front</td>\n      <td>...</td>\n      <td>4.0</td>\n      <td>159.0</td>\n      <td>97.0</td>\n      <td>66.0</td>\n      <td>36.0</td>\n      <td>26.0</td>\n      <td>15.0</td>\n      <td>2810.0</td>\n      <td>non-USA</td>\n      <td>Volkswagen Corrado</td>\n    </tr>\n    <tr>\n      <th>91</th>\n      <td>Volvo</td>\n      <td>240</td>\n      <td>Compact</td>\n      <td>21.800000</td>\n      <td>22.7</td>\n      <td>23.5</td>\n      <td>21.0</td>\n      <td>28.0</td>\n      <td>Driver only</td>\n      <td>Rear</td>\n      <td>...</td>\n      <td>5.0</td>\n      <td>190.0</td>\n      <td>104.0</td>\n      <td>67.0</td>\n      <td>37.0</td>\n      <td>29.5</td>\n      <td>14.0</td>\n      <td>2985.0</td>\n      <td>non-USA</td>\n      <td>Volvo 240</td>\n    </tr>\n    <tr>\n      <th>92</th>\n      <td>NaN</td>\n      <td>850</td>\n      <td>Midsize</td>\n      <td>24.800000</td>\n      <td>26.7</td>\n      <td>28.5</td>\n      <td>20.0</td>\n      <td>28.0</td>\n      <td>Driver &amp; Passenger</td>\n      <td>Front</td>\n      <td>...</td>\n      <td>5.0</td>\n      <td>184.0</td>\n      <td>105.0</td>\n      <td>69.0</td>\n      <td>38.0</td>\n      <td>30.0</td>\n      <td>15.0</td>\n      <td>3245.0</td>\n      <td>non-USA</td>\n      <td>Volvo 850</td>\n    </tr>\n  </tbody>\n</table>\n<p>93 rows × 27 columns</p>\n</div>"
     },
     "execution_count": 20,
     "metadata": {},
     "output_type": "execute_result"
    }
   ],
   "source": [
    "df = pd.read_csv('https://raw.githubusercontent.com/AleksDevEdu/ml_edu/master/datasets/Cars93_miss.csv')\n",
    "\n",
    "Nann = df['Min.Price'].mean()\n",
    "df['Min.Price'].fillna(Nann, inplace=True)\n",
    "# NOTE - после заполнения убедитесь, что в этой колонке нет пропущенных\n",
    "NotP = df['Min.Price'].isnull().sum()\n",
    "print(\"Количество пропущенных значений в колонке Min.Price:\", NotP)\n",
    "df"
   ]
  },
  {
   "cell_type": "markdown",
   "metadata": {
    "id": "FMmDLiwxg3W1"
   },
   "source": [
    "Отсортируйте и выведите фрейм с колонками в алфавитном порядке:"
   ]
  },
  {
   "cell_type": "code",
   "execution_count": 21,
   "metadata": {
    "_cell_id": "5yJOL2yL9XuoTfDx",
    "id": "0rcW6H5qf70T",
    "ExecuteTime": {
     "end_time": "2023-12-26T20:09:25.563453900Z",
     "start_time": "2023-12-26T20:09:25.554553800Z"
    }
   },
   "outputs": [
    {
     "data": {
      "text/plain": "   a  b  c  d  e  f\n0  6  5  5  6  4  8\n1  5  7  1  4  3  1\n2  9  2  0  0  6  4\n3  9  2  6  3  5  2\n4  4  4  2  9  4  9",
      "text/html": "<div>\n<style scoped>\n    .dataframe tbody tr th:only-of-type {\n        vertical-align: middle;\n    }\n\n    .dataframe tbody tr th {\n        vertical-align: top;\n    }\n\n    .dataframe thead th {\n        text-align: right;\n    }\n</style>\n<table border=\"1\" class=\"dataframe\">\n  <thead>\n    <tr style=\"text-align: right;\">\n      <th></th>\n      <th>a</th>\n      <th>b</th>\n      <th>c</th>\n      <th>d</th>\n      <th>e</th>\n      <th>f</th>\n    </tr>\n  </thead>\n  <tbody>\n    <tr>\n      <th>0</th>\n      <td>6</td>\n      <td>5</td>\n      <td>5</td>\n      <td>6</td>\n      <td>4</td>\n      <td>8</td>\n    </tr>\n    <tr>\n      <th>1</th>\n      <td>5</td>\n      <td>7</td>\n      <td>1</td>\n      <td>4</td>\n      <td>3</td>\n      <td>1</td>\n    </tr>\n    <tr>\n      <th>2</th>\n      <td>9</td>\n      <td>2</td>\n      <td>0</td>\n      <td>0</td>\n      <td>6</td>\n      <td>4</td>\n    </tr>\n    <tr>\n      <th>3</th>\n      <td>9</td>\n      <td>2</td>\n      <td>6</td>\n      <td>3</td>\n      <td>5</td>\n      <td>2</td>\n    </tr>\n    <tr>\n      <th>4</th>\n      <td>4</td>\n      <td>4</td>\n      <td>2</td>\n      <td>9</td>\n      <td>4</td>\n      <td>9</td>\n    </tr>\n  </tbody>\n</table>\n</div>"
     },
     "execution_count": 21,
     "metadata": {},
     "output_type": "execute_result"
    }
   ],
   "source": [
    "df = pd.DataFrame(np.random.randint(0, 10, size=(5, 6)), columns=list('fbecda'))\n",
    "\n",
    "sort = df.sort_index(axis=1)\n",
    "sort"
   ]
  },
  {
   "cell_type": "markdown",
   "metadata": {
    "id": "sRobyGHAjlRm"
   },
   "source": [
    "Отобразите каждую 20ю запись во фрейме и только колонки `Manufacturer`, `Model`, `Type`:"
   ]
  },
  {
   "cell_type": "code",
   "execution_count": 22,
   "metadata": {
    "_cell_id": "0F7WwivL2hJ7NQ8E",
    "id": "kNNS2B5ai9GU",
    "ExecuteTime": {
     "end_time": "2023-12-26T20:10:10.199694900Z",
     "start_time": "2023-12-26T20:10:10.134343900Z"
    }
   },
   "outputs": [
    {
     "name": "stdout",
     "output_type": "stream",
     "text": [
      "   Manufacturer    Model     Type\n",
      "0         Acura  Integra    Small\n",
      "20     Chrysler  LeBaron  Compact\n",
      "40        Honda  Prelude   Sporty\n",
      "60      Mercury   Cougar  Midsize\n",
      "80       Subaru   Loyale    Small\n"
     ]
    }
   ],
   "source": [
    "df = pd.read_csv('https://raw.githubusercontent.com/AleksDevEdu/ml_edu/master/datasets/Cars93_miss.csv')\n",
    "\n",
    "\n",
    "print(df[['Manufacturer', 'Model', 'Type']].iloc[::20])"
   ]
  },
  {
   "cell_type": "markdown",
   "metadata": {
    "id": "im7s33LdkZPq"
   },
   "source": [
    "Получите ряд, который содержит длины строк:"
   ]
  },
  {
   "cell_type": "code",
   "execution_count": 23,
   "metadata": {
    "_cell_id": "K1ksyOI7TGlXEWVF",
    "id": "WKREEgzYj9Dv",
    "ExecuteTime": {
     "end_time": "2023-12-26T20:10:59.241255600Z",
     "start_time": "2023-12-26T20:10:59.224154Z"
    }
   },
   "outputs": [
    {
     "data": {
      "text/plain": "0    3\n1    2\n2    3\n3    7\ndtype: int64"
     },
     "execution_count": 23,
     "metadata": {},
     "output_type": "execute_result"
    }
   ],
   "source": [
    "ds = pd.Series(['how', 'to', 'use', 'pandas?'])\n",
    "ds_len = ds.apply(len)\n",
    "\n",
    "ds_len\n",
    "# TODO - создайте ряд, содержащий длины строк:\n",
    "# 0    3\n",
    "# 1    2\n",
    "# 2    3\n",
    "# 3    7\n",
    "# dtype: int64"
   ]
  }
 ],
 "metadata": {
  "colab": {
   "collapsed_sections": [],
   "name": "Pr03_Pandas.ipynb",
   "provenance": [],
   "toc_visible": true
  },
  "kernelspec": {
   "display_name": "Python 3.8.10 ('.venv': poetry)",
   "language": "python",
   "name": "python3"
  },
  "language_info": {
   "codemirror_mode": {
    "name": "ipython",
    "version": 3
   },
   "file_extension": ".py",
   "mimetype": "text/x-python",
   "name": "python",
   "nbconvert_exporter": "python",
   "pygments_lexer": "ipython3",
   "version": "3.8.0"
  },
  "vscode": {
   "interpreter": {
    "hash": "5ef4d00d2bd0c756646408250b3e0222db1655439c25a4f11279476b8286db07"
   }
  }
 },
 "nbformat": 4,
 "nbformat_minor": 2
}
